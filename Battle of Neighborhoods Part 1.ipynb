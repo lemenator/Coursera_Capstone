{
  "nbformat": 4,
  "nbformat_minor": 0,
  "metadata": {
    "colab": {
      "name": "Untitled17.ipynb",
      "provenance": [],
      "authorship_tag": "ABX9TyM2nUEPcwpO/gpxCHn5AF+9",
      "include_colab_link": true
    },
    "kernelspec": {
      "name": "python3",
      "display_name": "Python 3"
    },
    "language_info": {
      "name": "python"
    }
  },
  "cells": [
    {
      "cell_type": "markdown",
      "metadata": {
        "id": "view-in-github",
        "colab_type": "text"
      },
      "source": [
        "<a href=\"https://colab.research.google.com/github/lemenator/Coursera_Capstone/blob/main/Battle%20of%20Neighborhoods%20Part%201.ipynb\" target=\"_parent\"><img src=\"https://colab.research.google.com/assets/colab-badge.svg\" alt=\"Open In Colab\"/></a>"
      ]
    },
    {
      "cell_type": "markdown",
      "metadata": {
        "id": "6y2o5qq22xPF"
      },
      "source": [
        "# 1. A description of the problem and a discussion of the background.\n",
        "  A new aspiring cream cheese start up company is looking for a location and they need a hot hipster location, which could be none other than the borough of Brooklyn, New York. \n",
        "      As their only product is cream cheese, for their business to be successful they need to be close to as many bagel shops as possible. As this is New York, bagel shops are already frequent but they need the most concentrated area of shops possible.\n",
        "# 2. A description of the data and how it will be used to solve the problem\n",
        "  The data comes from the IBM Skills Cloud New York data file, containing each neighborhood and its latitude and longitude of each borough of New York City. Specifically, this study will be using the data for the Brooklyn borough."
      ]
    },
    {
      "cell_type": "markdown",
      "metadata": {
        "id": "6c-LFUfF5OF5"
      },
      "source": [
        "Data set 'https://cf-courses-data.s3.us.cloud-object-storage.appdomain.cloud/IBMDeveloperSkillsNetwork-DS0701EN-SkillsNetwork/labs/newyork_data.json'"
      ]
    },
    {
      "cell_type": "code",
      "metadata": {
        "colab": {
          "base_uri": "https://localhost:8080/"
        },
        "id": "NGQj9Tum2wNM",
        "outputId": "a69c78bd-5d86-427d-dbf6-9ed6946328e9"
      },
      "source": [
        "import numpy as np # library to handle data in a vectorized manner\n",
        "\n",
        "import pandas as pd # library for data analsysis\n",
        "pd.set_option('display.max_columns', None)\n",
        "pd.set_option('display.max_rows', None)\n",
        "\n",
        "import json # library to handle JSON files\n",
        "\n",
        "!conda install -c conda-forge geopy --yes # uncomment this line if you haven't completed the Foursquare API lab\n",
        "from geopy.geocoders import Nominatim # convert an address into latitude and longitude values\n",
        "\n",
        "import requests # library to handle requests\n",
        "from pandas.io.json import json_normalize # tranform JSON file into a pandas dataframe\n",
        "\n",
        "# Matplotlib and associated plotting modules\n",
        "import matplotlib.cm as cm\n",
        "import matplotlib.colors as colors\n",
        "\n",
        "# import k-means from clustering stage\n",
        "from sklearn.cluster import KMeans\n",
        "\n",
        "#!conda install -c conda-forge folium=0.5.0 --yes # uncomment this line if you haven't completed the Foursquare API lab\n",
        "import folium # map rendering library\n",
        "\n",
        "print('Libraries imported.')"
      ],
      "execution_count": 1,
      "outputs": [
        {
          "output_type": "stream",
          "text": [
            "/bin/bash: conda: command not found\n",
            "Libraries imported.\n"
          ],
          "name": "stdout"
        }
      ]
    },
    {
      "cell_type": "code",
      "metadata": {
        "colab": {
          "base_uri": "https://localhost:8080/"
        },
        "id": "RRYmyv5W5ZDD",
        "outputId": "50ab857b-3b12-4dfa-99cd-3798baf26e93"
      },
      "source": [
        "!wget -q -O 'newyork_data.json' https://cf-courses-data.s3.us.cloud-object-storage.appdomain.cloud/IBMDeveloperSkillsNetwork-DS0701EN-SkillsNetwork/labs/newyork_data.json\n",
        "print('Data downloaded!')"
      ],
      "execution_count": 2,
      "outputs": [
        {
          "output_type": "stream",
          "text": [
            "Data downloaded!\n"
          ],
          "name": "stdout"
        }
      ]
    },
    {
      "cell_type": "code",
      "metadata": {
        "id": "rMt5nMdE5ZfE"
      },
      "source": [
        "with open('newyork_data.json') as json_data:\n",
        "    newyork_data = json.load(json_data)"
      ],
      "execution_count": 8,
      "outputs": []
    },
    {
      "cell_type": "code",
      "metadata": {
        "id": "5jXj2UnP6T8R"
      },
      "source": [
        "neighborhoods_data = newyork_data['features']"
      ],
      "execution_count": 9,
      "outputs": []
    },
    {
      "cell_type": "code",
      "metadata": {
        "id": "PAzkF8NQ6t-z"
      },
      "source": [
        "column_names = ['Borough', 'Neighborhood', 'Latitude', 'Longitude'] \n",
        "neighborhoods = pd.DataFrame(columns=column_names)"
      ],
      "execution_count": 10,
      "outputs": []
    },
    {
      "cell_type": "code",
      "metadata": {
        "id": "Zkoz-53_6xcd"
      },
      "source": [
        "for data in neighborhoods_data:\n",
        "    borough = neighborhood_name = data['properties']['borough'] \n",
        "    neighborhood_name = data['properties']['name']\n",
        "        \n",
        "    neighborhood_latlon = data['geometry']['coordinates']\n",
        "    neighborhood_lat = neighborhood_latlon[1]\n",
        "    neighborhood_lon = neighborhood_latlon[0]\n",
        "    \n",
        "    neighborhoods = neighborhoods.append({'Borough': borough,\n",
        "                                          'Neighborhood': neighborhood_name,\n",
        "                                          'Latitude': neighborhood_lat,\n",
        "                                          'Longitude': neighborhood_lon}, ignore_index=True)"
      ],
      "execution_count": 11,
      "outputs": []
    },
    {
      "cell_type": "code",
      "metadata": {
        "colab": {
          "base_uri": "https://localhost:8080/"
        },
        "id": "KEVsnJUw6zm9",
        "outputId": "c9b378bc-1711-4480-8d07-eaddf6e8bb68"
      },
      "source": [
        "print('The dataframe has {} boroughs and {} neighborhoods.'.format(\n",
        "        len(neighborhoods['Borough'].unique()),\n",
        "        neighborhoods.shape[0]\n",
        "    )\n",
        ")"
      ],
      "execution_count": 12,
      "outputs": [
        {
          "output_type": "stream",
          "text": [
            "The dataframe has 5 boroughs and 306 neighborhoods.\n"
          ],
          "name": "stdout"
        }
      ]
    },
    {
      "cell_type": "code",
      "metadata": {
        "colab": {
          "base_uri": "https://localhost:8080/",
          "height": 204
        },
        "id": "3SQjT95s64qq",
        "outputId": "228edfe0-4709-4b05-b190-7ed37b3bd079"
      },
      "source": [
        "brooklyn_data = neighborhoods[neighborhoods['Borough'] == 'Brooklyn'].reset_index(drop=True)\n",
        "brooklyn_data.head()"
      ],
      "execution_count": 14,
      "outputs": [
        {
          "output_type": "execute_result",
          "data": {
            "text/html": [
              "<div>\n",
              "<style scoped>\n",
              "    .dataframe tbody tr th:only-of-type {\n",
              "        vertical-align: middle;\n",
              "    }\n",
              "\n",
              "    .dataframe tbody tr th {\n",
              "        vertical-align: top;\n",
              "    }\n",
              "\n",
              "    .dataframe thead th {\n",
              "        text-align: right;\n",
              "    }\n",
              "</style>\n",
              "<table border=\"1\" class=\"dataframe\">\n",
              "  <thead>\n",
              "    <tr style=\"text-align: right;\">\n",
              "      <th></th>\n",
              "      <th>Borough</th>\n",
              "      <th>Neighborhood</th>\n",
              "      <th>Latitude</th>\n",
              "      <th>Longitude</th>\n",
              "    </tr>\n",
              "  </thead>\n",
              "  <tbody>\n",
              "    <tr>\n",
              "      <th>0</th>\n",
              "      <td>Brooklyn</td>\n",
              "      <td>Bay Ridge</td>\n",
              "      <td>40.625801</td>\n",
              "      <td>-74.030621</td>\n",
              "    </tr>\n",
              "    <tr>\n",
              "      <th>1</th>\n",
              "      <td>Brooklyn</td>\n",
              "      <td>Bensonhurst</td>\n",
              "      <td>40.611009</td>\n",
              "      <td>-73.995180</td>\n",
              "    </tr>\n",
              "    <tr>\n",
              "      <th>2</th>\n",
              "      <td>Brooklyn</td>\n",
              "      <td>Sunset Park</td>\n",
              "      <td>40.645103</td>\n",
              "      <td>-74.010316</td>\n",
              "    </tr>\n",
              "    <tr>\n",
              "      <th>3</th>\n",
              "      <td>Brooklyn</td>\n",
              "      <td>Greenpoint</td>\n",
              "      <td>40.730201</td>\n",
              "      <td>-73.954241</td>\n",
              "    </tr>\n",
              "    <tr>\n",
              "      <th>4</th>\n",
              "      <td>Brooklyn</td>\n",
              "      <td>Gravesend</td>\n",
              "      <td>40.595260</td>\n",
              "      <td>-73.973471</td>\n",
              "    </tr>\n",
              "  </tbody>\n",
              "</table>\n",
              "</div>"
            ],
            "text/plain": [
              "    Borough Neighborhood   Latitude  Longitude\n",
              "0  Brooklyn    Bay Ridge  40.625801 -74.030621\n",
              "1  Brooklyn  Bensonhurst  40.611009 -73.995180\n",
              "2  Brooklyn  Sunset Park  40.645103 -74.010316\n",
              "3  Brooklyn   Greenpoint  40.730201 -73.954241\n",
              "4  Brooklyn    Gravesend  40.595260 -73.973471"
            ]
          },
          "metadata": {
            "tags": []
          },
          "execution_count": 14
        }
      ]
    },
    {
      "cell_type": "code",
      "metadata": {
        "id": "IFi61Sqa61c-"
      },
      "source": [
        ""
      ],
      "execution_count": null,
      "outputs": []
    }
  ]
}